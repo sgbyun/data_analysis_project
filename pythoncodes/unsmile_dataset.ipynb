{
 "cells": [
  {
   "cell_type": "code",
   "execution_count": null,
   "id": "47db3bac",
   "metadata": {},
   "outputs": [],
   "source": [
    "import torch\n",
    "print(torch.__version__)\n",
    "print(torch.version.cuda)\n",
    "print(torch.cuda.get_device_name())\n",
    "print(torch.cuda.device_count())\n",
    "print(torch.cuda.is_available())"
   ]
  },
  {
   "cell_type": "code",
   "execution_count": null,
   "id": "2f773b4e",
   "metadata": {},
   "outputs": [],
   "source": [
    "!pip install datasets transformers==4.28.0\n",
    "!pip install datasets==1.17.0"
   ]
  },
  {
   "cell_type": "code",
   "execution_count": null,
   "id": "04d14796",
   "metadata": {},
   "outputs": [],
   "source": [
    "from transformers import TextClassificationPipeline, BertForSequenceClassification, AutoTokenizer\n",
    "\n",
    "model_name = 'smilegate-ai/kor_unsmile'\n",
    "\n",
    "model = BertForSequenceClassification.from_pretrained(model_name)\n",
    "tokenizer = AutoTokenizer.from_pretrained(model_name)\n",
    "\n",
    "pipe = TextClassificationPipeline(\n",
    "    model=model,\n",
    "    tokenizer=tokenizer,\n",
    "    device=0,     # cpu: -1, gpu: gpu number\n",
    "    return_all_scores=True,\n",
    "    function_to_apply='sigmoid'\n",
    "    )"
   ]
  },
  {
   "cell_type": "code",
   "execution_count": null,
   "id": "403067e0",
   "metadata": {},
   "outputs": [],
   "source": [
    "from flask import Flask, request, jsonify\n",
    "\n",
    "app = Flask(__name__)\n",
    "@app.route('/process',methods=['POST'])\n",
    "\n",
    "def process():\n",
    "    data = request.json  # Express로부터 전달된 데이터를 받음\n",
    "    # 받은 데이터를 처리하고 결과를 얻음\n",
    "    processed_data = process_data(data['dataToSend'])\n",
    "    print(processed_data)\n",
    "    # 처리된 결과를 Express로 응답\n",
    "    return jsonify(processed_data)\n",
    "\n",
    "def process_data(data):\n",
    "    # 데이터 처리 로직을 구현\n",
    "    main_topic = {\n",
    "        \"label\" : \"\",\n",
    "        \"score\" : 0\n",
    "    }\n",
    "    print(data)\n",
    "    for result in pipe(data)[0]:\n",
    "        #print(result)\n",
    "        if main_topic[\"score\"] < result['score']:\n",
    "            main_topic = result\n",
    "        main_topic['label']\n",
    "    return main_topic['label']\n",
    "\n",
    "if __name__ == '__main__':\n",
    "    app.run(host='0.0.0.0', port=5000)"
   ]
  }
 ],
 "metadata": {
  "kernelspec": {
   "display_name": "PyTorch",
   "language": "python",
   "name": "honeybee"
  },
  "language_info": {
   "codemirror_mode": {
    "name": "ipython",
    "version": 3
   },
   "file_extension": ".py",
   "mimetype": "text/x-python",
   "name": "python",
   "nbconvert_exporter": "python",
   "pygments_lexer": "ipython3",
   "version": "3.9.16"
  }
 },
 "nbformat": 4,
 "nbformat_minor": 5
}
